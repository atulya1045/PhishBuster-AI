{
 "cells": [
  {
   "cell_type": "code",
   "execution_count": null,
   "id": "a8847164-fa7d-4714-b116-26e0b5356728",
   "metadata": {},
   "outputs": [],
   "source": [
    " Explanation for email 1: Free cäsh! Clïck here to claim your prize!\n",
    "<IPython.core.display.HTML object>\n",
    "None\n",
    "\n",
    "🔍 Explanation for email 2: Hey, I sent over the updated files — let me know.\n",
    "<IPython.core.display.HTML object>\n",
    "None\n",
    "\n",
    "🔍 Explanation for email 3: Urgent: Account access locked. Click to unlock!\n",
    "<IPython.core.display.HTML object>\n",
    "None\n",
    "PS C:\\Users\\atulya sawant\\OneDrive\\Desktop\\PhishBuster-AI> "
   ]
  },
  {
   "cell_type": "code",
   "execution_count": null,
   "id": "ebe29821-b2da-4474-a64a-f8bae3c8cb8e",
   "metadata": {},
   "outputs": [],
   "source": [
    "import joblib\n",
    "import shap\n",
    "\n",
    "logreg_model = joblib.load(\"models/logreg_tuned_spam_classifier.joblib\")\n",
    "\n",
    "emails_to_explain = [\n",
    "    \"Free cäsh! Clïck here to claim your prize!\",\n",
    "    \"Hey, I sent over the updated files — let me know.\",\n",
    "    \"Urgent: Account access locked. Click to unlock!\"\n",
    "]\n",
    "\n",
    "masker = shap.maskers.Text()\n",
    "explainer = shap.Explainer(logreg_model.predict_proba, masker)\n",
    "shap_values = explainer(emails_to_explain)\n"
   ]
  },
  {
   "cell_type": "code",
   "execution_count": null,
   "id": "da70f388-ce40-4343-8443-ce1c42a33f37",
   "metadata": {},
   "outputs": [],
   "source": [
    "shap.plots.text(shap_values[0])  # Email 1\n"
   ]
  }
 ],
 "metadata": {
  "kernelspec": {
   "display_name": "Python 3 (ipykernel)",
   "language": "python",
   "name": "python3"
  },
  "language_info": {
   "codemirror_mode": {
    "name": "ipython",
    "version": 3
   },
   "file_extension": ".py",
   "mimetype": "text/x-python",
   "name": "python",
   "nbconvert_exporter": "python",
   "pygments_lexer": "ipython3",
   "version": "3.13.1"
  }
 },
 "nbformat": 4,
 "nbformat_minor": 5
}
