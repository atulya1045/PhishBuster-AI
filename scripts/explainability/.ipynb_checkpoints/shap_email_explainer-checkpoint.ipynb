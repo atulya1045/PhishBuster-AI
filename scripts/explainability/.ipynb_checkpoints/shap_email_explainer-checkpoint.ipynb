{
 "cells": [
  {
   "cell_type": "code",
   "execution_count": null,
   "id": "3c1d3d84-17ef-491f-abe8-850ab29b590d",
   "metadata": {},
   "outputs": [],
   "source": [
    "import os\n",
    "import joblib\n",
    "import shap\n",
    "import numpy as np\n",
    "import warnings\n",
    "from IPython.display import display\n",
    "\n",
    "warnings.filterwarnings(\"ignore\", category=DeprecationWarning)\n",
    "\n",
    "# Paths to model and label encoder\n",
    "model_path = \"models/logreg_tuned_spam_classifier.joblib\"\n",
    "label_encoder_path = \"models/label_encoder.joblib\"\n",
    "\n",
    "# Load model and encoder\n",
    "assert os.path.exists(model_path), f\"❌ Model not found: {model_path}\"\n",
    "assert os.path.exists(label_encoder_path), f\"❌ Label encoder not found: {label_encoder_path}\"\n",
    "\n",
    "print(\"📦 Loading model and label encoder...\")\n",
    "logreg_model = joblib.load(model_path)\n",
    "label_encoder = joblib.load(label_encoder_path)\n",
    "print(\"✅ Model and label encoder loaded.\")\n"
   ]
  },
  {
   "cell_type": "code",
   "execution_count": null,
   "id": "78cf17d2-a7cc-4c7d-9189-e53971e9f188",
   "metadata": {},
   "outputs": [],
   "source": [
    "# Emails to explain\n",
    "emails_to_explain = [\n",
    "    \"Free cäsh! Clïck here to claim your prize!\",\n",
    "    \"Hey, I sent over the updated files — let me know.\",\n",
    "    \"Urgent: Account access locked. Click to unlock!\"\n",
    "]\n",
    "\n",
    "print(\"⚙️ Creating SHAP explainer with Text masker...\")\n",
    "\n",
    "# Use SHAP Text masker\n",
    "masker = shap.maskers.Text(tokenizer=str.split)\n",
    "\n",
    "# Prediction wrapper\n",
    "def model_predict(texts):\n",
    "    return logreg_model.predict_proba(texts)\n",
    "\n",
    "# Create explainer\n",
    "explainer = shap.Explainer(model_predict, masker)\n",
    "print(\"✅ SHAP Text explainer created.\")\n"
   ]
  },
  {
   "cell_type": "code",
   "execution_count": null,
   "id": "5c049b7f-876e-4d0d-891c-86690f1dd9e5",
   "metadata": {},
   "outputs": [],
   "source": [
    "print(\"⚙️ Computing SHAP values...\")\n",
    "\n",
    "# Compute SHAP values\n",
    "shap_values = explainer(emails_to_explain)\n",
    "\n",
    "# Show SHAP plots\n",
    "for i, email in enumerate(emails_to_explain):\n",
    "    print(f\"\\n🔍 Explanation for email {i + 1}: {email}\")\n",
    "    display(shap.plots.text(shap_values[i]))\n"
   ]
  }
 ],
 "metadata": {
  "kernelspec": {
   "display_name": "Python 3 (ipykernel)",
   "language": "python",
   "name": "python3"
  },
  "language_info": {
   "codemirror_mode": {
    "name": "ipython",
    "version": 3
   },
   "file_extension": ".py",
   "mimetype": "text/x-python",
   "name": "python",
   "nbconvert_exporter": "python",
   "pygments_lexer": "ipython3",
   "version": "3.13.1"
  }
 },
 "nbformat": 4,
 "nbformat_minor": 5
}
